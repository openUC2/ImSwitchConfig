{
 "cells": [
  {
   "cell_type": "code",
   "execution_count": null,
   "id": "d904bcd2-d4e1-4fd3-8cdb-e31244918276",
   "metadata": {},
   "outputs": [],
   "source": [
    "!pip install imswitchclient\n",
    "import imswitchclient.ImSwitchClient as imc \n",
    "import numpy as np\n",
    "import matplotlib.pyplot as plt\n",
    "import time\n",
    "import cv2\n",
    "from skimage.registration import phase_cross_correlation\n"
   ]
  },
  {
   "cell_type": "code",
   "execution_count": 27,
   "id": "537fe71e-541c-4fa5-bc62-395a46235db6",
   "metadata": {},
   "outputs": [
    {
     "name": "stderr",
     "output_type": "stream",
     "text": [
      "/Users/bene/mambaforge/envs/imswitch/lib/python3.9/site-packages/urllib3/connectionpool.py:1061: InsecureRequestWarning: Unverified HTTPS request is being made to host '0.0.0.0'. Adding certificate verification is strongly advised. See: https://urllib3.readthedocs.io/en/1.26.x/advanced-usage.html#ssl-warnings\n",
      "  warnings.warn(\n",
      "/Users/bene/mambaforge/envs/imswitch/lib/python3.9/site-packages/urllib3/connectionpool.py:1061: InsecureRequestWarning: Unverified HTTPS request is being made to host '0.0.0.0'. Adding certificate verification is strongly advised. See: https://urllib3.readthedocs.io/en/1.26.x/advanced-usage.html#ssl-warnings\n",
      "  warnings.warn(\n",
      "/Users/bene/mambaforge/envs/imswitch/lib/python3.9/site-packages/urllib3/connectionpool.py:1061: InsecureRequestWarning: Unverified HTTPS request is being made to host '0.0.0.0'. Adding certificate verification is strongly advised. See: https://urllib3.readthedocs.io/en/1.26.x/advanced-usage.html#ssl-warnings\n",
      "  warnings.warn(\n",
      "/Users/bene/mambaforge/envs/imswitch/lib/python3.9/site-packages/urllib3/connectionpool.py:1061: InsecureRequestWarning: Unverified HTTPS request is being made to host '0.0.0.0'. Adding certificate verification is strongly advised. See: https://urllib3.readthedocs.io/en/1.26.x/advanced-usage.html#ssl-warnings\n",
      "  warnings.warn(\n",
      "/Users/bene/mambaforge/envs/imswitch/lib/python3.9/site-packages/urllib3/connectionpool.py:1061: InsecureRequestWarning: Unverified HTTPS request is being made to host '0.0.0.0'. Adding certificate verification is strongly advised. See: https://urllib3.readthedocs.io/en/1.26.x/advanced-usage.html#ssl-warnings\n",
      "  warnings.warn(\n",
      "/Users/bene/mambaforge/envs/imswitch/lib/python3.9/site-packages/urllib3/connectionpool.py:1061: InsecureRequestWarning: Unverified HTTPS request is being made to host '0.0.0.0'. Adding certificate verification is strongly advised. See: https://urllib3.readthedocs.io/en/1.26.x/advanced-usage.html#ssl-warnings\n",
      "  warnings.warn(\n",
      "/Users/bene/mambaforge/envs/imswitch/lib/python3.9/site-packages/urllib3/connectionpool.py:1061: InsecureRequestWarning: Unverified HTTPS request is being made to host '0.0.0.0'. Adding certificate verification is strongly advised. See: https://urllib3.readthedocs.io/en/1.26.x/advanced-usage.html#ssl-warnings\n",
      "  warnings.warn(\n",
      "/Users/bene/mambaforge/envs/imswitch/lib/python3.9/site-packages/urllib3/connectionpool.py:1061: InsecureRequestWarning: Unverified HTTPS request is being made to host '0.0.0.0'. Adding certificate verification is strongly advised. See: https://urllib3.readthedocs.io/en/1.26.x/advanced-usage.html#ssl-warnings\n",
      "  warnings.warn(\n",
      "/Users/bene/mambaforge/envs/imswitch/lib/python3.9/site-packages/urllib3/connectionpool.py:1061: InsecureRequestWarning: Unverified HTTPS request is being made to host '0.0.0.0'. Adding certificate verification is strongly advised. See: https://urllib3.readthedocs.io/en/1.26.x/advanced-usage.html#ssl-warnings\n",
      "  warnings.warn(\n",
      "/Users/bene/mambaforge/envs/imswitch/lib/python3.9/site-packages/urllib3/connectionpool.py:1061: InsecureRequestWarning: Unverified HTTPS request is being made to host '0.0.0.0'. Adding certificate verification is strongly advised. See: https://urllib3.readthedocs.io/en/1.26.x/advanced-usage.html#ssl-warnings\n",
      "  warnings.warn(\n",
      "/Users/bene/mambaforge/envs/imswitch/lib/python3.9/site-packages/urllib3/connectionpool.py:1061: InsecureRequestWarning: Unverified HTTPS request is being made to host '0.0.0.0'. Adding certificate verification is strongly advised. See: https://urllib3.readthedocs.io/en/1.26.x/advanced-usage.html#ssl-warnings\n",
      "  warnings.warn(\n",
      "/Users/bene/mambaforge/envs/imswitch/lib/python3.9/site-packages/urllib3/connectionpool.py:1061: InsecureRequestWarning: Unverified HTTPS request is being made to host '0.0.0.0'. Adding certificate verification is strongly advised. See: https://urllib3.readthedocs.io/en/1.26.x/advanced-usage.html#ssl-warnings\n",
      "  warnings.warn(\n",
      "/Users/bene/mambaforge/envs/imswitch/lib/python3.9/site-packages/urllib3/connectionpool.py:1061: InsecureRequestWarning: Unverified HTTPS request is being made to host '0.0.0.0'. Adding certificate verification is strongly advised. See: https://urllib3.readthedocs.io/en/1.26.x/advanced-usage.html#ssl-warnings\n",
      "  warnings.warn(\n"
     ]
    },
    {
     "name": "stdout",
     "output_type": "stream",
     "text": [
      "0.30524706840515137\n"
     ]
    },
    {
     "name": "stderr",
     "output_type": "stream",
     "text": [
      "/Users/bene/mambaforge/envs/imswitch/lib/python3.9/site-packages/urllib3/connectionpool.py:1061: InsecureRequestWarning: Unverified HTTPS request is being made to host '0.0.0.0'. Adding certificate verification is strongly advised. See: https://urllib3.readthedocs.io/en/1.26.x/advanced-usage.html#ssl-warnings\n",
      "  warnings.warn(\n",
      "/Users/bene/mambaforge/envs/imswitch/lib/python3.9/site-packages/urllib3/connectionpool.py:1061: InsecureRequestWarning: Unverified HTTPS request is being made to host '0.0.0.0'. Adding certificate verification is strongly advised. See: https://urllib3.readthedocs.io/en/1.26.x/advanced-usage.html#ssl-warnings\n",
      "  warnings.warn(\n",
      "/Users/bene/mambaforge/envs/imswitch/lib/python3.9/site-packages/urllib3/connectionpool.py:1061: InsecureRequestWarning: Unverified HTTPS request is being made to host '0.0.0.0'. Adding certificate verification is strongly advised. See: https://urllib3.readthedocs.io/en/1.26.x/advanced-usage.html#ssl-warnings\n",
      "  warnings.warn(\n",
      "/Users/bene/mambaforge/envs/imswitch/lib/python3.9/site-packages/urllib3/connectionpool.py:1061: InsecureRequestWarning: Unverified HTTPS request is being made to host '0.0.0.0'. Adding certificate verification is strongly advised. See: https://urllib3.readthedocs.io/en/1.26.x/advanced-usage.html#ssl-warnings\n",
      "  warnings.warn(\n"
     ]
    },
    {
     "name": "stdout",
     "output_type": "stream",
     "text": [
      "0.2861959934234619\n"
     ]
    },
    {
     "name": "stderr",
     "output_type": "stream",
     "text": [
      "/Users/bene/mambaforge/envs/imswitch/lib/python3.9/site-packages/urllib3/connectionpool.py:1061: InsecureRequestWarning: Unverified HTTPS request is being made to host '0.0.0.0'. Adding certificate verification is strongly advised. See: https://urllib3.readthedocs.io/en/1.26.x/advanced-usage.html#ssl-warnings\n",
      "  warnings.warn(\n",
      "/Users/bene/mambaforge/envs/imswitch/lib/python3.9/site-packages/urllib3/connectionpool.py:1061: InsecureRequestWarning: Unverified HTTPS request is being made to host '0.0.0.0'. Adding certificate verification is strongly advised. See: https://urllib3.readthedocs.io/en/1.26.x/advanced-usage.html#ssl-warnings\n",
      "  warnings.warn(\n",
      "/Users/bene/mambaforge/envs/imswitch/lib/python3.9/site-packages/urllib3/connectionpool.py:1061: InsecureRequestWarning: Unverified HTTPS request is being made to host '0.0.0.0'. Adding certificate verification is strongly advised. See: https://urllib3.readthedocs.io/en/1.26.x/advanced-usage.html#ssl-warnings\n",
      "  warnings.warn(\n",
      "/Users/bene/mambaforge/envs/imswitch/lib/python3.9/site-packages/urllib3/connectionpool.py:1061: InsecureRequestWarning: Unverified HTTPS request is being made to host '0.0.0.0'. Adding certificate verification is strongly advised. See: https://urllib3.readthedocs.io/en/1.26.x/advanced-usage.html#ssl-warnings\n",
      "  warnings.warn(\n"
     ]
    },
    {
     "name": "stdout",
     "output_type": "stream",
     "text": [
      "0.30700087547302246\n"
     ]
    },
    {
     "name": "stderr",
     "output_type": "stream",
     "text": [
      "/Users/bene/mambaforge/envs/imswitch/lib/python3.9/site-packages/urllib3/connectionpool.py:1061: InsecureRequestWarning: Unverified HTTPS request is being made to host '0.0.0.0'. Adding certificate verification is strongly advised. See: https://urllib3.readthedocs.io/en/1.26.x/advanced-usage.html#ssl-warnings\n",
      "  warnings.warn(\n",
      "/Users/bene/mambaforge/envs/imswitch/lib/python3.9/site-packages/urllib3/connectionpool.py:1061: InsecureRequestWarning: Unverified HTTPS request is being made to host '0.0.0.0'. Adding certificate verification is strongly advised. See: https://urllib3.readthedocs.io/en/1.26.x/advanced-usage.html#ssl-warnings\n",
      "  warnings.warn(\n",
      "/Users/bene/mambaforge/envs/imswitch/lib/python3.9/site-packages/urllib3/connectionpool.py:1061: InsecureRequestWarning: Unverified HTTPS request is being made to host '0.0.0.0'. Adding certificate verification is strongly advised. See: https://urllib3.readthedocs.io/en/1.26.x/advanced-usage.html#ssl-warnings\n",
      "  warnings.warn(\n",
      "/Users/bene/mambaforge/envs/imswitch/lib/python3.9/site-packages/urllib3/connectionpool.py:1061: InsecureRequestWarning: Unverified HTTPS request is being made to host '0.0.0.0'. Adding certificate verification is strongly advised. See: https://urllib3.readthedocs.io/en/1.26.x/advanced-usage.html#ssl-warnings\n",
      "  warnings.warn(\n"
     ]
    },
    {
     "name": "stdout",
     "output_type": "stream",
     "text": [
      "0.39849400520324707\n",
      "0.2807769775390625\n"
     ]
    },
    {
     "name": "stderr",
     "output_type": "stream",
     "text": [
      "/Users/bene/mambaforge/envs/imswitch/lib/python3.9/site-packages/urllib3/connectionpool.py:1061: InsecureRequestWarning: Unverified HTTPS request is being made to host '0.0.0.0'. Adding certificate verification is strongly advised. See: https://urllib3.readthedocs.io/en/1.26.x/advanced-usage.html#ssl-warnings\n",
      "  warnings.warn(\n",
      "/Users/bene/mambaforge/envs/imswitch/lib/python3.9/site-packages/urllib3/connectionpool.py:1061: InsecureRequestWarning: Unverified HTTPS request is being made to host '0.0.0.0'. Adding certificate verification is strongly advised. See: https://urllib3.readthedocs.io/en/1.26.x/advanced-usage.html#ssl-warnings\n",
      "  warnings.warn(\n",
      "/Users/bene/mambaforge/envs/imswitch/lib/python3.9/site-packages/urllib3/connectionpool.py:1061: InsecureRequestWarning: Unverified HTTPS request is being made to host '0.0.0.0'. Adding certificate verification is strongly advised. See: https://urllib3.readthedocs.io/en/1.26.x/advanced-usage.html#ssl-warnings\n",
      "  warnings.warn(\n"
     ]
    }
   ],
   "source": [
    "\n",
    "# Initialize the client\n",
    "client = imc.ImSwitchClient()\n",
    "\n",
    "# Retrieve the first positioner's name and current position\n",
    "positioner_names = client.positionersManager.getAllDeviceNames()\n",
    "positioner_name = positioner_names[0]\n",
    "currentPositions = client.positionersManager.getPositionerPositions()[positioner_name]\n",
    "initialPosition = (currentPositions[\"X\"], currentPositions[\"Y\"])\n",
    "\n",
    "# turn on illumination\n",
    "mLaserName = client.lasersManager.getLaserNames()[0]\n",
    "client.lasersManager.setLaserActive(mLaserName, True)\n",
    "client.lasersManager.setLaserValue(mLaserName, 1023)\n",
    "\n",
    "positionList = [(0,0,0), \n",
    "                (0,200, 0),\n",
    "                (0,0,0), \n",
    "                (100,0,0),\n",
    "                (0,0,0)]\n",
    "\n",
    "                \n",
    "mStack = []\n",
    "mPositions = []\n",
    "#for ix in range(10):\n",
    "#    for iy in range(10):\n",
    "for iIndex, iPosition in enumerate(positionList):\n",
    "        mTime = time.time()\n",
    "        # Define and move to a new position\n",
    "        newPosition = (initialPosition[0] + iPosition[0], initialPosition[1] + iPosition[1])\n",
    "        client.positionersManager.movePositioner(positioner_name, \"X\", newPosition[0], is_absolute=True, is_blocking=True)\n",
    "        client.positionersManager.movePositioner(positioner_name, \"Y\", newPosition[1], is_absolute=True, is_blocking=True)\n",
    "        \n",
    "        # Acquire and display an image\n",
    "        #time.sleep(2)  # Allow time for the move\n",
    "        lastFrame = client.recordingManager.snapNumpyToFastAPI()\n",
    "        mStack.append(lastFrame)\n",
    "        currentPositions = client.positionersManager.getPositionerPositions()[positioner_name]\n",
    "        currentPositionsXY = (currentPositions[\"X\"], currentPositions[\"Y\"])\n",
    "        mPositions.append(currentPositionsXY)\n",
    "        if 0:\n",
    "            plt.imshow(lastFrame)\n",
    "            plt.show()\n",
    "        print(time.time()-mTime)\n",
    "# Return the positioner to its initial position\n",
    "client.positionersManager.movePositioner(positioner_name, \"X\", initialPosition[0], is_absolute=True, is_blocking=True)\n",
    "client.positionersManager.movePositioner(positioner_name, \"Y\", initialPosition[1], is_absolute=True, is_blocking=True)\n"
   ]
  },
  {
   "cell_type": "code",
   "execution_count": 4,
   "id": "e8d0eba2-228e-4e7e-aa5c-087d61bede6e",
   "metadata": {},
   "outputs": [
    {
     "data": {
      "text/plain": [
       "<Image layer 'Image' at 0x12227a7c0>"
      ]
     },
     "execution_count": 4,
     "metadata": {},
     "output_type": "execute_result"
    }
   ],
   "source": [
    "import napari\n",
    "mViewer = napari.Viewer()\n",
    "mViewer.add_image(np.array(mStack))"
   ]
  },
  {
   "cell_type": "code",
   "execution_count": null,
   "id": "cff024d9-3cec-4b57-be44-8908ab6282fe",
   "metadata": {},
   "outputs": [],
   "source": []
  },
  {
   "cell_type": "code",
   "execution_count": null,
   "id": "f6377334-dd57-495b-a765-94012af8aef7",
   "metadata": {},
   "outputs": [],
   "source": []
  },
  {
   "cell_type": "code",
   "execution_count": 34,
   "id": "7d44027d-d37d-454a-851e-d962a910f944",
   "metadata": {},
   "outputs": [
    {
     "data": {
      "image/png": "[encoded data removed]",
      "text/plain": [
       "<Figure size 640x480 with 1 Axes>"
      ]
     },
     "metadata": {},
     "output_type": "display_data"
    }
   ],
   "source": [
    "# we assume we have a structured sample in focus\n",
    "# the sample is moved around and the deltas are measured\n",
    "# everything has to be inside a thread\n",
    "# process the slices and compute their relative distances in pixels\n",
    "# compute shift between images relative to zeroth image\n",
    "allShiftsComputed = []\n",
    "rescalingFac = 1 # in case the images are too big we should scale them down! \n",
    "for iImage in range(len(mStack)):\n",
    "    image1 = mStack[0]# cv2.cvtColor(mStack[0], cv2.COLOR_BGR2GRAY)\n",
    "    image2 = mStack[iImage] #cv2.cvtColor(mStack[iImage], cv2.COLOR_BGR2GRAY)\n",
    "    \n",
    "    # downscaling will reduce accuracy, but will speed up computation\n",
    "    image1 = cv2.resize(image1, dsize=None, dst=None, fx=1/rescalingFac, fy=1/rescalingFac)\n",
    "    image2 = cv2.resize(image2, dsize=None, dst=None, fx=1/rescalingFac, fy=1/rescalingFac)\n",
    "\n",
    "    # produces coordinates that can be used to align two imags with the shift function, axis = y,x and image2 on image1\n",
    "    shift, error, diffphase = phase_cross_correlation(image2, image1)\n",
    "    shift *=rescalingFac\n",
    "    allShiftsComputed.append((shift[1],shift[0]))\n",
    "\n",
    "import matplotlib.pyplot as plt \n",
    "# computed positions\n",
    "x, y = np.array(allShiftsComputed).T\n",
    "plt.plot(x,y, 'r')\n",
    "# positions sent to the microscope\n",
    "xm, ym, z = np.array(positionList).T\n",
    "plt.plot(xm,ym, 'b')\n",
    "plt.legend((\"computed\", \"real\"))\n",
    "\n",
    "plt.show()\n",
    "\n"
   ]
  },
  {
   "cell_type": "code",
   "execution_count": 28,
   "id": "4a08985b-73c7-44ec-8ac7-fe6e563ce8b7",
   "metadata": {},
   "outputs": [
    {
     "ename": "NameError",
     "evalue": "name 'xyScanStepsAbsolute' is not defined",
     "output_type": "error",
     "traceback": [
      "\u001b[0;31m---------------------------------------------------------------------------\u001b[0m",
      "\u001b[0;31mNameError\u001b[0m                                 Traceback (most recent call last)",
      "Cell \u001b[0;32mIn[28], line 3\u001b[0m\n\u001b[1;32m      1\u001b[0m \u001b[38;5;66;03m# compute averrage shifts according to scan grid \u001b[39;00m\n\u001b[1;32m      2\u001b[0m \u001b[38;5;66;03m# compare measured shift with shift given by the array of random coordinats\u001b[39;00m\n\u001b[0;32m----> 3\u001b[0m allShiftsPlanned \u001b[38;5;241m=\u001b[39m np\u001b[38;5;241m.\u001b[39marray(\u001b[43mxyScanStepsAbsolute\u001b[49m)\n\u001b[1;32m      4\u001b[0m allShiftsPlanned \u001b[38;5;241m-\u001b[39m\u001b[38;5;241m=\u001b[39m np\u001b[38;5;241m.\u001b[39mmin(allShiftsPlanned,\u001b[38;5;241m0\u001b[39m)\n\u001b[1;32m      5\u001b[0m allShiftsComputed \u001b[38;5;241m=\u001b[39m np\u001b[38;5;241m.\u001b[39marray(allShiftsComputed)\n",
      "\u001b[0;31mNameError\u001b[0m: name 'xyScanStepsAbsolute' is not defined"
     ]
    }
   ],
   "source": [
    "# random code \n",
    "\n",
    "\n",
    "\n",
    "s\n",
    "# compute averrage shifts according to scan grid \n",
    "# compare measured shift with shift given by the array of random coordinats\n",
    "allShiftsPlanned = np.array(xyScanStepsAbsolute)\n",
    "allShiftsPlanned -= np.min(allShiftsPlanned,0)\n",
    "allShiftsComputed = np.array(allShiftsComputed)\n",
    "\n",
    "# compute differencs\n",
    "nShiftX = (self.xScanMax-self.xScanMin)//self.xScanStep\n",
    "nShiftY = (self.yScanMax-self.yScanMin)//self.yScanStep\n",
    "\n",
    "# determine the axis and swap if necessary (e.g. swap axis (y,x))\n",
    "dReal = np.abs(allShiftsPlanned-np.roll(allShiftsPlanned,-1,0))\n",
    "dMeasured = np.abs(allShiftsComputed-np.roll(allShiftsComputed,-1,0))\n",
    "xAxisReal = np.argmin(np.mean(dReal,0))\n",
    "xAxisMeasured = np.argmin(np.mean(dMeasured,0))\n",
    "if xAxisReal != xAxisMeasured:\n",
    "    xAxisMeasured = np.transposes(xAxisMeasured, (1,0))\n",
    "\n",
    "# stepsize => real motion / stepsize \n",
    "stepSizeStage = (dMeasured*self.pixelSize)/dReal\n",
    "stepSizeStage[stepSizeStage == np.inf] = 0\n",
    "stepSizeStage = np.nan_to_num(stepSizeStage, nan=0.)\n",
    "stepSizeStage = stepSizeStage[np.where(stepSizeStage>0)]\n",
    "stepSizeStageDim = np.mean(stepSizeStage)\n",
    "stepSizeStageVar = np.var(stepSizeStage)\n",
    "\n",
    "self._logger.debug(\"Stage pixel size: \"+str(stepSizeStageDim)+\"nm/step\")\n",
    "self._widget.setInformationLabel(\"Stage pixel size: \"+str(stepSizeStageDim)+\" nm/step\")\n",
    "\n",
    "# Set in setup info\n",
    "name=\"test\"\n",
    "self._setupInfo.setPositionerPreset(name, self.makePreset())\n",
    "configfiletools.saveSetupInfo(configfiletools.loadOptions()[0], self._setupInfo)\n",
    "\n",
    "\n",
    "\n"
   ]
  },
  {
   "cell_type": "code",
   "execution_count": 24,
   "id": "80cb7873-24f0-41ca-9a89-c7ac075f0eaa",
   "metadata": {},
   "outputs": [
    {
     "data": {
      "text/plain": [
       "[(0, 0, 0), (0, 100, 0), (0, 0, 0), (100, 0, 0), (0, 0, 0)]"
      ]
     },
     "execution_count": 24,
     "metadata": {},
     "output_type": "execute_result"
    }
   ],
   "source": [
    "positionList"
   ]
  },
  {
   "cell_type": "code",
   "execution_count": null,
   "id": "66e04de8-746b-4a06-a5e4-0eac04cda6cf",
   "metadata": {},
   "outputs": [],
   "source": []
  }
 ],
 "metadata": {
  "kernelspec": {
   "display_name": "Python 3 (ipykernel)",
   "language": "python",
   "name": "python3"
  },
  "language_info": {
   "codemirror_mode": {
    "name": "ipython",
    "version": 3
   },
   "file_extension": ".py",
   "mimetype": "text/x-python",
   "name": "python",
   "nbconvert_exporter": "python",
   "pygments_lexer": "ipython3",
   "version": "3.9.18"
  }
 },
 "nbformat": 4,
 "nbformat_minor": 5
}
