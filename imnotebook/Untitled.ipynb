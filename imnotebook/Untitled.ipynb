{
 "cells": [
  {
   "cell_type": "code",
   "execution_count": 1,
   "id": "619efcb0-86e3-4996-a059-ddc31f9fc1a9",
   "metadata": {},
   "outputs": [
    {
     "ename": "ValueError",
     "evalue": "pickling is disabled",
     "output_type": "error",
     "traceback": [
      "\u001b[0;31m---------------------------------------------------------------------------\u001b[0m",
      "\u001b[0;31mValueError\u001b[0m                                Traceback (most recent call last)",
      "Cell \u001b[0;32mIn[1], line 14\u001b[0m\n\u001b[1;32m     10\u001b[0m conn\u001b[38;5;241m.\u001b[39mroot\u001b[38;5;241m.\u001b[39msetLiveViewActive(\u001b[38;5;28;01mTrue\u001b[39;00m)\n\u001b[1;32m     11\u001b[0m mImage \u001b[38;5;241m=\u001b[39m conn\u001b[38;5;241m.\u001b[39mroot\u001b[38;5;241m.\u001b[39msnapImage(\u001b[38;5;28;01mTrue\u001b[39;00m, \u001b[38;5;28;01mFalse\u001b[39;00m)\n\u001b[0;32m---> 14\u001b[0m \u001b[43mnp\u001b[49m\u001b[38;5;241;43m.\u001b[39;49m\u001b[43marray\u001b[49m\u001b[43m(\u001b[49m\u001b[43mmImage\u001b[49m\u001b[43m)\u001b[49m\n\u001b[1;32m     15\u001b[0m \u001b[38;5;66;03m#plt.imshow(mImage)\u001b[39;00m\n\u001b[1;32m     16\u001b[0m \u001b[38;5;66;03m#plt.show()\u001b[39;00m\n",
      "File \u001b[0;32m~/mambaforge/envs/imswitch/lib/python3.9/site-packages/rpyc/core/netref.py:256\u001b[0m, in \u001b[0;36m_make_method.<locals>.__array__\u001b[0;34m(self)\u001b[0m\n\u001b[1;32m    251\u001b[0m \u001b[38;5;28;01mdef\u001b[39;00m \u001b[38;5;21m__array__\u001b[39m(\u001b[38;5;28mself\u001b[39m):\n\u001b[1;32m    252\u001b[0m     \u001b[38;5;66;03m# Note that protocol=-1 will only work between python\u001b[39;00m\n\u001b[1;32m    253\u001b[0m     \u001b[38;5;66;03m# interpreters of the same version.\u001b[39;00m\n\u001b[1;32m    254\u001b[0m     \u001b[38;5;28;01mif\u001b[39;00m \u001b[38;5;129;01mnot\u001b[39;00m \u001b[38;5;28mobject\u001b[39m\u001b[38;5;241m.\u001b[39m\u001b[38;5;21m__getattribute__\u001b[39m(\u001b[38;5;28mself\u001b[39m,\u001b[38;5;124m'\u001b[39m\u001b[38;5;124m____conn__\u001b[39m\u001b[38;5;124m'\u001b[39m)\u001b[38;5;241m.\u001b[39m_config[\u001b[38;5;124m\"\u001b[39m\u001b[38;5;124mallow_pickle\u001b[39m\u001b[38;5;124m\"\u001b[39m]:\n\u001b[1;32m    255\u001b[0m         \u001b[38;5;66;03m# Security check that server side allows pickling per #551\u001b[39;00m\n\u001b[0;32m--> 256\u001b[0m         \u001b[38;5;28;01mraise\u001b[39;00m \u001b[38;5;167;01mValueError\u001b[39;00m(\u001b[38;5;124m\"\u001b[39m\u001b[38;5;124mpickling is disabled\u001b[39m\u001b[38;5;124m\"\u001b[39m)\n\u001b[1;32m    257\u001b[0m     \u001b[38;5;28;01mreturn\u001b[39;00m pickle\u001b[38;5;241m.\u001b[39mloads(syncreq(\u001b[38;5;28mself\u001b[39m, consts\u001b[38;5;241m.\u001b[39mHANDLE_PICKLE, \u001b[38;5;241m-\u001b[39m\u001b[38;5;241m1\u001b[39m))\n",
      "\u001b[0;31mValueError\u001b[0m: pickling is disabled"
     ]
    }
   ],
   "source": [
    "import rpyc\n",
    "import numpy as np\n",
    "import matplotlib.pyplot as plt \n",
    "\n",
    "# Connect to the RPyC server\n",
    "conn = rpyc.utils.factory.unix_connect('/tmp/rpycsession')\n",
    "\n",
    "conn.root.setLaserActive(\"LED\", True)\n",
    "conn.root.setLaserValue(\"LED\", 1023)\n",
    "conn.root.setLiveViewActive(True)\n",
    "mImage = conn.root.snapImage(True, False)\n",
    "\n",
    "\n",
    "np.array(mImage)\n",
    "#plt.imshow(mImage)\n",
    "#plt.show()\n",
    "\n",
    "    \n"
   ]
  },
  {
   "cell_type": "code",
   "execution_count": 4,
   "id": "5ceba429-45f7-4319-bd3a-7abda4692236",
   "metadata": {},
   "outputs": [],
   "source": [
    "conn.close()"
   ]
  },
  {
   "cell_type": "code",
   "execution_count": null,
   "id": "27d62e3c-ed7e-4dfe-9b66-88a6d131bc35",
   "metadata": {},
   "outputs": [],
   "source": []
  }
 ],
 "metadata": {
  "kernelspec": {
   "display_name": "Python 3 (ipykernel)",
   "language": "python",
   "name": "python3"
  },
  "language_info": {
   "codemirror_mode": {
    "name": "ipython",
    "version": 3
   },
   "file_extension": ".py",
   "mimetype": "text/x-python",
   "name": "python",
   "nbconvert_exporter": "python",
   "pygments_lexer": "ipython3",
   "version": "3.9.18"
  }
 },
 "nbformat": 4,
 "nbformat_minor": 5
}
